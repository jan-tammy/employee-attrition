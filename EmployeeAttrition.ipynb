{
 "cells": [
  {
   "cell_type": "markdown",
   "id": "86de6c9b-e8b3-45fe-91c1-1cbb35920e1d",
   "metadata": {},
   "source": [
    "# Employee Attrition Prediction\r\n",
    "\r\n",
    "This project aims to build a predictive model to identify employees who are likely to leave the company (\"Attrition = Yes\"). Understanding the factors that influence attrition can help organizations improve employee retention and reduce hiring and training costs.\r\n",
    "\r\n",
    "We use the IBM HR Analytics Employee Attrition & Performance dataset, which contains various features about employee demographics, job roles, compensation, satisfaction scores, and more.\r\n"
   ]
  },
  {
   "cell_type": "code",
   "execution_count": 330,
   "id": "2405764a-e06f-45a6-b00c-2dd0878b07f4",
   "metadata": {},
   "outputs": [
    {
     "data": {
      "text/html": [
       "        <script type=\"text/javascript\">\n",
       "        window.PlotlyConfig = {MathJaxConfig: 'local'};\n",
       "        if (window.MathJax && window.MathJax.Hub && window.MathJax.Hub.Config) {window.MathJax.Hub.Config({SVG: {font: \"STIX-Web\"}});}\n",
       "        if (typeof require !== 'undefined') {\n",
       "        require.undef(\"plotly\");\n",
       "        requirejs.config({\n",
       "            paths: {\n",
       "                'plotly': ['https://cdn.plot.ly/plotly-2.32.0.min']\n",
       "            }\n",
       "        });\n",
       "        require(['plotly'], function(Plotly) {\n",
       "            window._Plotly = Plotly;\n",
       "        });\n",
       "        }\n",
       "        </script>\n",
       "        "
      ]
     },
     "metadata": {},
     "output_type": "display_data"
    }
   ],
   "source": [
    "import numpy as np\n",
    "import pandas as pd\n",
    "import seaborn as sns\n",
    "import matplotlib.pyplot as plt \n",
    "%matplotlib inline\n",
    "\n",
    "#imports for plotly\n",
    "import plotly.offline as py\n",
    "py.init_notebook_mode(connected=True)\n",
    "import plotly.graph_objs as go\n",
    "import plotly.tools as tls\n",
    "\n",
    "from sklearn.ensemble import RandomForestClassifier, GradientBoostingClassifier\n",
    "from sklearn.linear_model import LogisticRegression\n",
    "from sklearn.metrics import accuracy_score, log_loss, classification_report, roc_auc_score, f1_score\n",
    "from imblearn.over_sampling import SMOTE\n",
    "from xgboost import XGBClassifier"
   ]
  },
  {
   "cell_type": "markdown",
   "id": "bc842a69-dbab-40ca-9623-ece4afdac8a4",
   "metadata": {},
   "source": [
    "## Dataset Overview\r\n",
    "\r\n",
    "We begin by loading and exploring the dataset to understand its structure, features, and target variable. The dataset contains both numerical and categorical variables, and the target column is `'Attrition'`, with values \"Yes\" and \"No\".\r\n",
    "\r\n",
    "Key columns include:\r\n",
    "- Age, Gender, Department, DistanceFromHome, Education\r\n",
    "- JobRole, MonthlyIncome, YearsAtCompany, OverTime\r\n",
    "- Satisfaction metrics (e.g., JobSatisfaction, EnvironmentSatisfaction)\r\n"
   ]
  },
  {
   "cell_type": "markdown",
   "id": "56bc4217-d728-4bfb-b5c5-f27d31d8e88f",
   "metadata": {},
   "source": [
    "## Exploratory Data Analysis"
   ]
  },
  {
   "cell_type": "code",
   "execution_count": 236,
   "id": "6495576e-e43a-4043-bded-38e0b7d98578",
   "metadata": {},
   "outputs": [
    {
     "name": "stdout",
     "output_type": "stream",
     "text": [
      "Index(['Age', 'Attrition', 'BusinessTravel', 'DailyRate', 'Department',\n",
      "       'DistanceFromHome', 'Education', 'EducationField', 'EmployeeCount',\n",
      "       'EmployeeNumber', 'EnvironmentSatisfaction', 'Gender', 'HourlyRate',\n",
      "       'JobInvolvement', 'JobLevel', 'JobRole', 'JobSatisfaction',\n",
      "       'MaritalStatus', 'MonthlyIncome', 'MonthlyRate', 'NumCompaniesWorked',\n",
      "       'Over18', 'OverTime', 'PercentSalaryHike', 'PerformanceRating',\n",
      "       'RelationshipSatisfaction', 'StandardHours', 'StockOptionLevel',\n",
      "       'TotalWorkingYears', 'TrainingTimesLastYear', 'WorkLifeBalance',\n",
      "       'YearsAtCompany', 'YearsInCurrentRole', 'YearsSinceLastPromotion',\n",
      "       'YearsWithCurrManager'],\n",
      "      dtype='object')\n"
     ]
    }
   ],
   "source": [
    "#load data\n",
    "attrition = pd.read_csv(\"Employee_Attrition.csv\")\n",
    "print(attrition.columns)"
   ]
  },
  {
   "cell_type": "code",
   "execution_count": 204,
   "id": "59f0ca97-ab96-47d1-ad29-c94dae7eab3b",
   "metadata": {},
   "outputs": [
    {
     "name": "stdout",
     "output_type": "stream",
     "text": [
      "<class 'pandas.core.frame.DataFrame'>\n",
      "RangeIndex: 1470 entries, 0 to 1469\n",
      "Data columns (total 35 columns):\n",
      " #   Column                    Non-Null Count  Dtype \n",
      "---  ------                    --------------  ----- \n",
      " 0   Age                       1470 non-null   int64 \n",
      " 1   Attrition                 1470 non-null   object\n",
      " 2   BusinessTravel            1470 non-null   object\n",
      " 3   DailyRate                 1470 non-null   int64 \n",
      " 4   Department                1470 non-null   object\n",
      " 5   DistanceFromHome          1470 non-null   int64 \n",
      " 6   Education                 1470 non-null   int64 \n",
      " 7   EducationField            1470 non-null   object\n",
      " 8   EmployeeCount             1470 non-null   int64 \n",
      " 9   EmployeeNumber            1470 non-null   int64 \n",
      " 10  EnvironmentSatisfaction   1470 non-null   int64 \n",
      " 11  Gender                    1470 non-null   object\n",
      " 12  HourlyRate                1470 non-null   int64 \n",
      " 13  JobInvolvement            1470 non-null   int64 \n",
      " 14  JobLevel                  1470 non-null   int64 \n",
      " 15  JobRole                   1470 non-null   object\n",
      " 16  JobSatisfaction           1470 non-null   int64 \n",
      " 17  MaritalStatus             1470 non-null   object\n",
      " 18  MonthlyIncome             1470 non-null   int64 \n",
      " 19  MonthlyRate               1470 non-null   int64 \n",
      " 20  NumCompaniesWorked        1470 non-null   int64 \n",
      " 21  Over18                    1470 non-null   object\n",
      " 22  OverTime                  1470 non-null   object\n",
      " 23  PercentSalaryHike         1470 non-null   int64 \n",
      " 24  PerformanceRating         1470 non-null   int64 \n",
      " 25  RelationshipSatisfaction  1470 non-null   int64 \n",
      " 26  StandardHours             1470 non-null   int64 \n",
      " 27  StockOptionLevel          1470 non-null   int64 \n",
      " 28  TotalWorkingYears         1470 non-null   int64 \n",
      " 29  TrainingTimesLastYear     1470 non-null   int64 \n",
      " 30  WorkLifeBalance           1470 non-null   int64 \n",
      " 31  YearsAtCompany            1470 non-null   int64 \n",
      " 32  YearsInCurrentRole        1470 non-null   int64 \n",
      " 33  YearsSinceLastPromotion   1470 non-null   int64 \n",
      " 34  YearsWithCurrManager      1470 non-null   int64 \n",
      "dtypes: int64(26), object(9)\n",
      "memory usage: 402.1+ KB\n",
      "None\n"
     ]
    }
   ],
   "source": [
    "print(attrition.info())"
   ]
  },
  {
   "cell_type": "code",
   "execution_count": 205,
   "id": "2437cebe-905d-49f3-833c-68802e078f7f",
   "metadata": {},
   "outputs": [
    {
     "name": "stdout",
     "output_type": "stream",
     "text": [
      "Shape:  (1470, 35)\n",
      " \n",
      "               Age    DailyRate  DistanceFromHome    Education  EmployeeCount  \\\n",
      "count  1470.000000  1470.000000       1470.000000  1470.000000         1470.0   \n",
      "mean     36.923810   802.485714          9.192517     2.912925            1.0   \n",
      "std       9.135373   403.509100          8.106864     1.024165            0.0   \n",
      "min      18.000000   102.000000          1.000000     1.000000            1.0   \n",
      "25%      30.000000   465.000000          2.000000     2.000000            1.0   \n",
      "50%      36.000000   802.000000          7.000000     3.000000            1.0   \n",
      "75%      43.000000  1157.000000         14.000000     4.000000            1.0   \n",
      "max      60.000000  1499.000000         29.000000     5.000000            1.0   \n",
      "\n",
      "       EmployeeNumber  EnvironmentSatisfaction   HourlyRate  JobInvolvement  \\\n",
      "count     1470.000000              1470.000000  1470.000000     1470.000000   \n",
      "mean      1024.865306                 2.721769    65.891156        2.729932   \n",
      "std        602.024335                 1.093082    20.329428        0.711561   \n",
      "min          1.000000                 1.000000    30.000000        1.000000   \n",
      "25%        491.250000                 2.000000    48.000000        2.000000   \n",
      "50%       1020.500000                 3.000000    66.000000        3.000000   \n",
      "75%       1555.750000                 4.000000    83.750000        3.000000   \n",
      "max       2068.000000                 4.000000   100.000000        4.000000   \n",
      "\n",
      "          JobLevel  ...  RelationshipSatisfaction  StandardHours  \\\n",
      "count  1470.000000  ...               1470.000000         1470.0   \n",
      "mean      2.063946  ...                  2.712245           80.0   \n",
      "std       1.106940  ...                  1.081209            0.0   \n",
      "min       1.000000  ...                  1.000000           80.0   \n",
      "25%       1.000000  ...                  2.000000           80.0   \n",
      "50%       2.000000  ...                  3.000000           80.0   \n",
      "75%       3.000000  ...                  4.000000           80.0   \n",
      "max       5.000000  ...                  4.000000           80.0   \n",
      "\n",
      "       StockOptionLevel  TotalWorkingYears  TrainingTimesLastYear  \\\n",
      "count       1470.000000        1470.000000            1470.000000   \n",
      "mean           0.793878          11.279592               2.799320   \n",
      "std            0.852077           7.780782               1.289271   \n",
      "min            0.000000           0.000000               0.000000   \n",
      "25%            0.000000           6.000000               2.000000   \n",
      "50%            1.000000          10.000000               3.000000   \n",
      "75%            1.000000          15.000000               3.000000   \n",
      "max            3.000000          40.000000               6.000000   \n",
      "\n",
      "       WorkLifeBalance  YearsAtCompany  YearsInCurrentRole  \\\n",
      "count      1470.000000     1470.000000         1470.000000   \n",
      "mean          2.761224        7.008163            4.229252   \n",
      "std           0.706476        6.126525            3.623137   \n",
      "min           1.000000        0.000000            0.000000   \n",
      "25%           2.000000        3.000000            2.000000   \n",
      "50%           3.000000        5.000000            3.000000   \n",
      "75%           3.000000        9.000000            7.000000   \n",
      "max           4.000000       40.000000           18.000000   \n",
      "\n",
      "       YearsSinceLastPromotion  YearsWithCurrManager  \n",
      "count              1470.000000           1470.000000  \n",
      "mean                  2.187755              4.123129  \n",
      "std                   3.222430              3.568136  \n",
      "min                   0.000000              0.000000  \n",
      "25%                   0.000000              2.000000  \n",
      "50%                   1.000000              3.000000  \n",
      "75%                   3.000000              7.000000  \n",
      "max                  15.000000             17.000000  \n",
      "\n",
      "[8 rows x 26 columns]\n"
     ]
    }
   ],
   "source": [
    "print(\"Shape: \",attrition.shape)\n",
    "print(\" \")\n",
    "print(attrition.describe())"
   ]
  },
  {
   "cell_type": "code",
   "execution_count": 394,
   "id": "968932e0-d607-4f5a-b3d3-af3673bd9a16",
   "metadata": {},
   "outputs": [
    {
     "name": "stdout",
     "output_type": "stream",
     "text": [
      "Age                         0\n",
      "Attrition                   0\n",
      "BusinessTravel              0\n",
      "DailyRate                   0\n",
      "Department                  0\n",
      "DistanceFromHome            0\n",
      "Education                   0\n",
      "EducationField              0\n",
      "EnvironmentSatisfaction     0\n",
      "Gender                      0\n",
      "HourlyRate                  0\n",
      "JobInvolvement              0\n",
      "JobLevel                    0\n",
      "JobRole                     0\n",
      "JobSatisfaction             0\n",
      "MaritalStatus               0\n",
      "MonthlyIncome               0\n",
      "MonthlyRate                 0\n",
      "NumCompaniesWorked          0\n",
      "OverTime                    0\n",
      "PercentSalaryHike           0\n",
      "PerformanceRating           0\n",
      "RelationshipSatisfaction    0\n",
      "StockOptionLevel            0\n",
      "TotalWorkingYears           0\n",
      "TrainingTimesLastYear       0\n",
      "WorkLifeBalance             0\n",
      "YearsAtCompany              0\n",
      "YearsInCurrentRole          0\n",
      "YearsSinceLastPromotion     0\n",
      "YearsWithCurrManager        0\n",
      "dtype: int64\n",
      "0\n"
     ]
    }
   ],
   "source": [
    "print(attrition.isna().sum())\n",
    "print(attrition.duplicated().sum())"
   ]
  },
  {
   "cell_type": "markdown",
   "id": "01338bfb-53ee-4021-bf71-35b1782d25f9",
   "metadata": {},
   "source": [
    "There are no missing or duplicated values."
   ]
  },
  {
   "cell_type": "markdown",
   "id": "213a7020-d7e7-4e7d-ac0e-de7d0e86182e",
   "metadata": {},
   "source": [
    "## Data Preprocessing\n",
    "\n",
    "We perform the following preprocessing steps:\n",
    "- Encoding The target variable (`Attrition`) into a binary format: 1 = Yes, 0 = No\n",
    "- Convert categorical variables into numerical format using one-hot encoding\n",
    "- Drop any columns that do not contribute to the prediction (e.g., EmployeeNumber, EmployeeCount, Over18, StandardHours)"
   ]
  },
  {
   "cell_type": "code",
   "execution_count": 344,
   "id": "ae68f875-5b05-4ace-8060-7423fc579af2",
   "metadata": {},
   "outputs": [
    {
     "name": "stdout",
     "output_type": "stream",
     "text": [
      "['Y']\n",
      "[80]\n",
      "[1]\n"
     ]
    }
   ],
   "source": [
    "print(attrition[\"Over18\"].unique())\n",
    "print(attrition[\"StandardHours\"].unique())\n",
    "print(attrition[\"EmployeeCount\"].unique())"
   ]
  },
  {
   "cell_type": "code",
   "execution_count": 354,
   "id": "8b3f3a15-e27a-494e-9c34-257340b876ea",
   "metadata": {},
   "outputs": [],
   "source": [
    "attrition = attrition.drop([\"Over18\",\"StandardHours\",\"EmployeeNumber\",\"EmployeeCount\"], axis = 1)"
   ]
  },
  {
   "cell_type": "code",
   "execution_count": 356,
   "id": "eaff5ae7-bc33-42d5-9c56-420cd1463b29",
   "metadata": {},
   "outputs": [
    {
     "data": {
      "text/plain": [
       "Attrition\n",
       "No     0.838776\n",
       "Yes    0.161224\n",
       "Name: proportion, dtype: float64"
      ]
     },
     "execution_count": 356,
     "metadata": {},
     "output_type": "execute_result"
    }
   ],
   "source": [
    "attrition[\"Attrition\"].value_counts(normalize=True)"
   ]
  },
  {
   "cell_type": "markdown",
   "id": "9290cf15-a582-4663-9237-aedf5f4dfbeb",
   "metadata": {},
   "source": [
    "We can see that there is a class imbalance here, where only 16% of the employees have Attrition set to \"Yes\". We will have to deal with these class imbalances in later sections."
   ]
  },
  {
   "cell_type": "markdown",
   "id": "f079f67a-bb3f-4774-90b1-531437baa14e",
   "metadata": {},
   "source": [
    "## Exploratory Data Analysis (EDA)\r\n",
    "\r\n",
    "We explore the distribution of features and how they relate to attrition using:\r\n",
    "- Countplots for categorical features\r\n",
    "- KDE plots to visualize relationships between continuous variables\r\n",
    "- Correlation matrix for numerical variables\r\n",
    "\r\n",
    "This helps us understand which factors might be most predictive of attrition.\r\n"
   ]
  },
  {
   "cell_type": "code",
   "execution_count": 359,
   "id": "5b5b93bc-83c6-453b-ade4-7a56554b918b",
   "metadata": {},
   "outputs": [
    {
     "data": {
      "image/png": "[encoded data removed]",
      "text/plain": [
       "<Figure size 1000x800 with 9 Axes>"
      ]
     },
     "metadata": {},
     "output_type": "display_data"
    }
   ],
   "source": [
    "f,axes = plt.subplots(3,3,figsize=(10,8), sharex=False,sharey=False)\n",
    "\n",
    "#Defining colormap scheme\n",
    "s = np.linspace(0,3,10)\n",
    "cmap = sns.cubehelix_palette(start=0.0,light=1, as_cmap = True)\n",
    "\n",
    "#Generate and plot\n",
    "x = attrition[\"Age\"].values\n",
    "y = attrition[\"TotalWorkingYears\"].values\n",
    "sns.kdeplot(x=x,y=y, cmap=cmap, fill = True, cut = 5, ax = axes[0,0])\n",
    "axes[0,0].set(title = \"Age vs. Total Working Years\")\n",
    "\n",
    "cmap = sns.cubehelix_palette(start=0.333333333333, light=1, as_cmap=True)\n",
    "x = attrition[\"Age\"].values\n",
    "y = attrition[\"DailyRate\"].values\n",
    "sns.kdeplot(x=x,y=y, cmap=cmap, fill = True, cut = 5, ax = axes[0,1])\n",
    "axes[0,1].set(title = \"Age vs. Daily Rate\")\n",
    "\n",
    "cmap = sns.cubehelix_palette(start = 0.6666666, light = 1, as_cmap = True)\n",
    "y = attrition[\"Age\"].values\n",
    "x = attrition[\"YearsInCurrentRole\"].values\n",
    "sns.kdeplot(x=x,y=y, cmap=cmap, fill = True, cut = 5, ax = axes[0,2])\n",
    "axes[0,2].set(title = \"Age vs. Years in Current Role\")\n",
    "\n",
    "cmap = sns.cubehelix_palette(start=1.0, light=1, as_cmap=True)\n",
    "# Generate and plot\n",
    "x = attrition['DailyRate'].values\n",
    "y = attrition['DistanceFromHome'].values\n",
    "sns.kdeplot(x=x,y=y, cmap=cmap, fill=True,  ax=axes[1,0])\n",
    "axes[1,0].set( title = 'Daily Rate vs. Distance from Home')\n",
    "\n",
    "cmap = sns.cubehelix_palette(start=1.333333333333, light=1, as_cmap=True)\n",
    "# Generate and plot\n",
    "x = attrition['DailyRate'].values\n",
    "y = attrition['JobSatisfaction'].values\n",
    "sns.kdeplot(x=x,y=y, cmap=cmap, fill=True,  ax=axes[1,1])\n",
    "axes[1,1].set( title = 'Daily Rate vs. Job Satisfaction')\n",
    "\n",
    "cmap = sns.cubehelix_palette(start=1.666666666667, light=1, as_cmap=True)\n",
    "# Generate and plot\n",
    "x = attrition['YearsAtCompany'].values\n",
    "y = attrition['JobSatisfaction'].values\n",
    "sns.kdeplot(x=x,y=y, cmap=cmap, fill=True,  ax=axes[1,2])\n",
    "axes[1,2].set( title = 'Daily Rate vs. Job Satisfaction')\n",
    "\n",
    "cmap = sns.cubehelix_palette(start=2.0, light=1, as_cmap=True)\n",
    "# Generate and plot\n",
    "x = attrition['YearsAtCompany'].values\n",
    "y = attrition['DailyRate'].values\n",
    "sns.kdeplot(x=x,y=y, cmap=cmap, fill=True,  ax=axes[2,0])\n",
    "axes[2,0].set( title = 'Years at Company vs. Daily Rate')\n",
    "\n",
    "cmap = sns.cubehelix_palette(start=2.333333333333, light=1, as_cmap=True)\n",
    "# Generate and plot\n",
    "x = attrition['RelationshipSatisfaction'].values\n",
    "y = attrition['YearsWithCurrManager'].values\n",
    "sns.kdeplot(x=x,y=y, cmap=cmap, fill=True,  ax=axes[2,1])\n",
    "axes[2,1].set( title = 'Relnship Satisfaction vs. Years w Manager')\n",
    "\n",
    "cmap = sns.cubehelix_palette(start=2.666666666667, light=1, as_cmap=True)\n",
    "# Generate and plot\n",
    "x = attrition['WorkLifeBalance'].values\n",
    "y = attrition['JobSatisfaction'].values\n",
    "sns.kdeplot(x=x,y=y, cmap=cmap, fill=True,  ax=axes[2,2])\n",
    "axes[2,2].set( title = 'Work Life Balance vs. Satisfaction')\n",
    "\n",
    "f.tight_layout()"
   ]
  },
  {
   "cell_type": "markdown",
   "id": "140f2049-7bd7-459e-996e-d3e3281ddc6a",
   "metadata": {},
   "source": [
    "### Interpretation:\n",
    "* Age vs. Total Working Years: Strong positive correlation; Older employees tend to have more total working years\n",
    "* Years at Company vs. Daily Rate: Slight clustering in lower years at company over a wide range of daily rates\n",
    "* Work-Life Balance vs. Job Satisfaction: Highest density where scores are 3 or 4, suggesting that people with good work-life balance have higher job satisfaction.\n",
    "\n",
    "There aren't any other significant relationships in this data. "
   ]
  },
  {
   "cell_type": "markdown",
   "id": "9244649c-2e12-48d0-b90d-74f281602e34",
   "metadata": {},
   "source": [
    "## Finding Correlation"
   ]
  },
  {
   "cell_type": "code",
   "execution_count": 362,
   "id": "c12d49f9-81d6-4f88-a133-99e203d3a819",
   "metadata": {},
   "outputs": [],
   "source": [
    "#Use pandas apply method to numerically encode the target variable\n",
    "attrition[\"Attrition_numeric\"] = attrition[\"Attrition\"].map({\"No\":0,\"Yes\":1})\n",
    "\n",
    "#creating a list of only numeric variables\n",
    "numeric = [u'Age', u'DailyRate', u'DistanceFromHome', \n",
    "             u'Education', u'EnvironmentSatisfaction',\n",
    "             u'HourlyRate', u'JobInvolvement', u'JobLevel', u'JobSatisfaction',\n",
    "             u'MonthlyIncome', u'MonthlyRate', u'NumCompaniesWorked',\n",
    "             u'PercentSalaryHike', u'PerformanceRating', u'RelationshipSatisfaction',\n",
    "             u'StockOptionLevel', u'TotalWorkingYears',\n",
    "             u'TrainingTimesLastYear', u'WorkLifeBalance', u'YearsAtCompany',\n",
    "             u'YearsInCurrentRole', u'YearsSinceLastPromotion',u'YearsWithCurrManager']"
   ]
  },
  {
   "cell_type": "code",
   "execution_count": 364,
   "id": "dc40bf85-42fc-4d00-bd50-94389d89e38f",
   "metadata": {},
   "outputs": [
    {
     "data": {
      "application/vnd.plotly.v1+json": {
       "config": {
        "linkText": "Export to plot.ly",
        "plotlyServerURL": "https://plot.ly",
        "showLink": false
       },
       "data": [
        {
         "colorscale": [
          [
           0,
           "#440154"
          ],
          [
           0.1111111111111111,
           "#482878"
          ],
          [
           0.2222222222222222,
           "#3e4989"
          ],
          [
           0.3333333333333333,
           "#31688e"
          ],
          [
           0.4444444444444444,
           "#26828e"
          ],
          [
           0.5555555555555556,
           "#1f9e89"
          ],
          [
           0.6666666666666666,
           "#35b779"
          ],
          [
           0.7777777777777778,
           "#6ece58"
          ],
          [
           0.8888888888888888,
           "#b5de2b"
          ],
          [
           1,
           "#fde725"
          ]
         ],
         "opacity": 0.7,
         "reversescale": false,
         "type": "heatmap",
         "x": [
          "Age",
          "DailyRate",
          "DistanceFromHome",
          "Education",
          "EnvironmentSatisfaction",
          "HourlyRate",
          "JobInvolvement",
          "JobLevel",
          "JobSatisfaction",
          "MonthlyIncome",
          "MonthlyRate",
          "NumCompaniesWorked",
          "PercentSalaryHike",
          "PerformanceRating",
          "RelationshipSatisfaction",
          "StockOptionLevel",
          "TotalWorkingYears",
          "TrainingTimesLastYear",
          "WorkLifeBalance",
          "YearsAtCompany",
          "YearsInCurrentRole",
          "YearsSinceLastPromotion",
          "YearsWithCurrManager"
         ],
         "y": [
          "Age",
          "DailyRate",
          "DistanceFromHome",
          "Education",
          "EnvironmentSatisfaction",
          "HourlyRate",
          "JobInvolvement",
          "JobLevel",
          "JobSatisfaction",
          "MonthlyIncome",
          "MonthlyRate",
          "NumCompaniesWorked",
          "PercentSalaryHike",
          "PerformanceRating",
          "RelationshipSatisfaction",
          "StockOptionLevel",
          "TotalWorkingYears",
          "TrainingTimesLastYear",
          "WorkLifeBalance",
          "YearsAtCompany",
          "YearsInCurrentRole",
          "YearsSinceLastPromotion",
          "YearsWithCurrManager"
         ],
         "z": [
          [
           1,
           0.010660942645538433,
           -0.00168612014808715,
           0.2080337310142398,
           0.010146427861437268,
           0.024286542550967197,
           0.029819958629590578,
           0.5096042284323842,
           -0.00489187714868713,
           0.4978545669265801,
           0.02805116713392273,
           0.2996347579836926,
           0.0036335849148618872,
           0.0019038955127587383,
           0.053534719671229365,
           0.037509712424777526,
           0.6803805357911985,
           -0.01962081894269849,
           -0.021490027957098715,
           0.3113087697450989,
           0.21290105556556793,
           0.2165133678516537,
           0.20208860237515264
          ],
          [
           0.010660942645538433,
           1,
           -0.00498533735255263,
           -0.01680643320915763,
           0.018354854300385557,
           0.023381421528320526,
           0.04613487399781112,
           0.0029663348551116197,
           0.030571007837143983,
           0.007707058872006053,
           -0.03218160152258194,
           0.0381534342794098,
           0.022703677496334968,
           0.00047329632718855213,
           0.007846030957248387,
           0.04214279637720667,
           0.014514738706320902,
           0.002452542712083144,
           -0.03784805100578179,
           -0.03405476756854742,
           0.009932014960094215,
           -0.033228984787772024,
           -0.026363178228837676
          ],
          [
           -0.00168612014808715,
           -0.00498533735255263,
           1,
           0.021041825624123392,
           -0.016075326996493524,
           0.03113058561176572,
           0.008783279886444255,
           0.005302730554496216,
           -0.0036688391677205793,
           -0.017014444745275862,
           0.02747286354888413,
           -0.029250804197293017,
           0.040235377459193075,
           0.027109618481976,
           0.006557474646578779,
           0.04487199885318152,
           0.004628425863783857,
           -0.036942234339915794,
           -0.02655600410656903,
           0.009507719899011289,
           0.018844999108945746,
           0.010028835943115395,
           0.014406048430630005
          ],
          [
           0.2080337310142398,
           -0.01680643320915763,
           0.021041825624123392,
           1,
           -0.027128313256511792,
           0.01677482888096076,
           0.042437634318607954,
           0.10158888624850043,
           -0.011296116736574002,
           0.09496067704188883,
           -0.026084197160047493,
           0.12631656017668452,
           -0.011110940860654192,
           -0.024538791164833557,
           -0.009118376696381533,
           0.018422220204016834,
           0.1482796965388733,
           -0.025100241137933348,
           0.00981918930978191,
           0.06911369603133866,
           0.06023555412069576,
           0.054254333591320224,
           0.06906537825528458
          ],
          [
           0.010146427861437268,
           0.018354854300385557,
           -0.016075326996493524,
           -0.027128313256511792,
           1,
           -0.04985695620300066,
           -0.008277598171759099,
           0.001211699448913883,
           -0.006784352599075007,
           -0.0062590877547801654,
           0.037599622865715374,
           0.012594323218943297,
           -0.031701195241792046,
           -0.02954795229768088,
           0.007665383541074558,
           0.0034321577550574162,
           -0.002693070388534207,
           -0.01935930834713247,
           0.027627295460115428,
           0.0014575491911164862,
           0.01800746014287853,
           0.016193605568453326,
           -0.004998722628107581
          ],
          [
           0.024286542550967197,
           0.023381421528320526,
           0.03113058561176572,
           0.01677482888096076,
           -0.04985695620300066,
           1,
           0.04286064097152976,
           -0.027853486405547218,
           -0.07133462437378787,
           -0.015794304380892982,
           -0.015296749550649661,
           0.02215688339019683,
           -0.00906198625374016,
           -0.002171697427810162,
           0.0013304527859508606,
           0.050263399065119486,
           -0.002333681823322269,
           -0.008547685209270649,
           -0.004607233750264554,
           -0.019581616209121275,
           -0.02410622020878498,
           -0.02671558606433524,
           -0.020123200184066006
          ],
          [
           0.029819958629590578,
           0.04613487399781112,
           0.008783279886444255,
           0.042437634318607954,
           -0.008277598171759099,
           0.04286064097152976,
           1,
           -0.012629882671190631,
           -0.021475910335306454,
           -0.015271490778732832,
           -0.016322079053317298,
           0.015012413243110999,
           -0.017204572244480378,
           -0.029071333439069817,
           0.034296820611197744,
           0.021522640378023858,
           -0.0055331820574074635,
           -0.015337825759429116,
           -0.014616593162761865,
           -0.021355426979629725,
           0.00871696349761169,
           -0.024184292365179074,
           0.025975807949088936
          ],
          [
           0.5096042284323842,
           0.0029663348551116197,
           0.005302730554496216,
           0.10158888624850043,
           0.001211699448913883,
           -0.027853486405547218,
           -0.012629882671190631,
           1,
           -0.0019437080267456581,
           0.9502999134798473,
           0.03956295104568388,
           0.1425011238104873,
           -0.03473049227941817,
           -0.021222082108857152,
           0.021641510532591595,
           0.013983910528615457,
           0.7822078045362748,
           -0.018190550193549416,
           0.037817745596666404,
           0.5347386873756308,
           0.3894467328766705,
           0.3538853469641021,
           0.37528060776572636
          ],
          [
           -0.00489187714868713,
           0.030571007837143983,
           -0.0036688391677205793,
           -0.011296116736574002,
           -0.006784352599075007,
           -0.07133462437378787,
           -0.021475910335306454,
           -0.0019437080267456581,
           1,
           -0.00715674235591272,
           0.0006439169427037768,
           -0.05569942601274605,
           0.020002039364081927,
           0.0022971970637806114,
           -0.012453593161926702,
           0.010690226120755746,
           -0.020185072685016788,
           -0.005779334958609115,
           -0.01945871021297396,
           -0.0038026279482880534,
           -0.002304785229830135,
           -0.01821356781019079,
           -0.027656213884289974
          ],
          [
           0.4978545669265801,
           0.007707058872006053,
           -0.017014444745275862,
           0.09496067704188883,
           -0.0062590877547801654,
           -0.015794304380892982,
           -0.015271490778732832,
           0.9502999134798473,
           -0.00715674235591272,
           1,
           0.034813626134121846,
           0.14951521598969805,
           -0.02726858644031447,
           -0.01712013823739077,
           0.025873436137557656,
           0.005407676696812238,
           0.7728932462543574,
           -0.02173627682389331,
           0.030683081556940557,
           0.5142848257331957,
           0.3638176669287084,
           0.3449776381654271,
           0.34407888325872127
          ],
          [
           0.02805116713392273,
           -0.03218160152258194,
           0.02747286354888413,
           -0.026084197160047493,
           0.037599622865715374,
           -0.015296749550649661,
           -0.016322079053317298,
           0.03956295104568388,
           0.0006439169427037768,
           0.034813626134121846,
           1,
           0.017521353415571563,
           -0.006429345946711407,
           -0.00981142848936084,
           -0.004085329337519686,
           -0.034322830206660805,
           0.026442471176015385,
           0.0014668806322858448,
           0.007963157516977033,
           -0.023655106706177275,
           -0.012814874370471728,
           0.001566799514676175,
           -0.036745905336769386
          ],
          [
           0.2996347579836926,
           0.0381534342794098,
           -0.029250804197293017,
           0.12631656017668452,
           0.012594323218943297,
           0.02215688339019683,
           0.015012413243110999,
           0.1425011238104873,
           -0.05569942601274605,
           0.14951521598969805,
           0.017521353415571563,
           1,
           -0.010238309359925521,
           -0.014094872753535133,
           0.05273304856488617,
           0.030075475096897484,
           0.23763858978479552,
           -0.06605407172783646,
           -0.008365684790058631,
           -0.11842134024259104,
           -0.0907539337008081,
           -0.03681389238350808,
           -0.11031915543773241
          ],
          [
           0.0036335849148618872,
           0.022703677496334968,
           0.040235377459193075,
           -0.011110940860654192,
           -0.031701195241792046,
           -0.00906198625374016,
           -0.017204572244480378,
           -0.03473049227941817,
           0.020002039364081927,
           -0.02726858644031447,
           -0.006429345946711407,
           -0.010238309359925521,
           1,
           0.7735499964012664,
           -0.04049008105707734,
           0.0075277478205202026,
           -0.020608487617691264,
           -0.005221012351721004,
           -0.0032796360093680704,
           -0.03599126243195373,
           -0.0015200265442777774,
           -0.022154312598866126,
           -0.01198524847236139
          ],
          [
           0.0019038955127587383,
           0.00047329632718855213,
           0.027109618481976,
           -0.024538791164833557,
           -0.02954795229768088,
           -0.002171697427810162,
           -0.029071333439069817,
           -0.021222082108857152,
           0.0022971970637806114,
           -0.01712013823739077,
           -0.00981142848936084,
           -0.014094872753535133,
           0.7735499964012664,
           1,
           -0.031351455442454886,
           0.003506471614809783,
           0.0067436679059531685,
           -0.015578881739137565,
           0.002572361317682639,
           0.0034351261159238713,
           0.034986260407194936,
           0.017896066144799785,
           0.022827168908479807
          ],
          [
           0.053534719671229365,
           0.007846030957248387,
           0.006557474646578779,
           -0.009118376696381533,
           0.007665383541074558,
           0.0013304527859508606,
           0.034296820611197744,
           0.021641510532591595,
           -0.012453593161926702,
           0.025873436137557656,
           -0.004085329337519686,
           0.05273304856488617,
           -0.04049008105707734,
           -0.031351455442454886,
           1,
           -0.045952490716561906,
           0.02405429182134145,
           0.002496526392116996,
           0.01960440570396871,
           0.019366786877455463,
           -0.015122914881937748,
           0.033492502069354176,
           -0.0008674968446256695
          ],
          [
           0.037509712424777526,
           0.04214279637720667,
           0.04487199885318152,
           0.018422220204016834,
           0.0034321577550574162,
           0.050263399065119486,
           0.021522640378023858,
           0.013983910528615457,
           0.010690226120755746,
           0.005407676696812238,
           -0.034322830206660805,
           0.030075475096897484,
           0.0075277478205202026,
           0.003506471614809783,
           -0.045952490716561906,
           1,
           0.010135969318901629,
           0.011274069611249207,
           0.004128730002871338,
           0.015058008028094509,
           0.050817872753931646,
           0.01435218486435548,
           0.02469822656303012
          ],
          [
           0.6803805357911985,
           0.014514738706320902,
           0.004628425863783857,
           0.1482796965388733,
           -0.002693070388534207,
           -0.002333681823322269,
           -0.0055331820574074635,
           0.7822078045362748,
           -0.020185072685016788,
           0.7728932462543574,
           0.026442471176015385,
           0.23763858978479552,
           -0.020608487617691264,
           0.0067436679059531685,
           0.02405429182134145,
           0.010135969318901629,
           1,
           -0.03566157127961907,
           0.0010076456218964924,
           0.6281331552682468,
           0.46036463801180993,
           0.4048577585025587,
           0.45918839708314385
          ],
          [
           -0.01962081894269849,
           0.002452542712083144,
           -0.036942234339915794,
           -0.025100241137933348,
           -0.01935930834713247,
           -0.008547685209270649,
           -0.015337825759429116,
           -0.018190550193549416,
           -0.005779334958609115,
           -0.02173627682389331,
           0.0014668806322858448,
           -0.06605407172783646,
           -0.005221012351721004,
           -0.015578881739137565,
           0.002496526392116996,
           0.011274069611249207,
           -0.03566157127961907,
           1,
           0.02807220660362872,
           0.003568665678427449,
           -0.0057375043379568925,
           -0.0020665360380059438,
           -0.004095526021226202
          ],
          [
           -0.021490027957098715,
           -0.03784805100578179,
           -0.02655600410656903,
           0.00981918930978191,
           0.027627295460115428,
           -0.004607233750264554,
           -0.014616593162761865,
           0.037817745596666404,
           -0.01945871021297396,
           0.030683081556940557,
           0.007963157516977033,
           -0.008365684790058631,
           -0.0032796360093680704,
           0.002572361317682639,
           0.01960440570396871,
           0.004128730002871338,
           0.0010076456218964924,
           0.02807220660362872,
           1,
           0.012089185354581315,
           0.04985649792220436,
           0.008941249141234323,
           0.002759440242340428
          ],
          [
           0.3113087697450989,
           -0.03405476756854742,
           0.009507719899011289,
           0.06911369603133866,
           0.0014575491911164862,
           -0.019581616209121275,
           -0.021355426979629725,
           0.5347386873756308,
           -0.0038026279482880534,
           0.5142848257331957,
           -0.023655106706177275,
           -0.11842134024259104,
           -0.03599126243195373,
           0.0034351261159238713,
           0.019366786877455463,
           0.015058008028094509,
           0.6281331552682468,
           0.003568665678427449,
           0.012089185354581315,
           1,
           0.7587537366134619,
           0.6184088652176047,
           0.7692124251007031
          ],
          [
           0.21290105556556793,
           0.009932014960094215,
           0.018844999108945746,
           0.06023555412069576,
           0.01800746014287853,
           -0.02410622020878498,
           0.00871696349761169,
           0.3894467328766705,
           -0.002304785229830135,
           0.3638176669287084,
           -0.012814874370471728,
           -0.0907539337008081,
           -0.0015200265442777774,
           0.034986260407194936,
           -0.015122914881937748,
           0.050817872753931646,
           0.46036463801180993,
           -0.0057375043379568925,
           0.04985649792220436,
           0.7587537366134619,
           1,
           0.5480562476995187,
           0.7143647616385931
          ],
          [
           0.2165133678516537,
           -0.033228984787772024,
           0.010028835943115395,
           0.054254333591320224,
           0.016193605568453326,
           -0.02671558606433524,
           -0.024184292365179074,
           0.3538853469641021,
           -0.01821356781019079,
           0.3449776381654271,
           0.001566799514676175,
           -0.03681389238350808,
           -0.022154312598866126,
           0.017896066144799785,
           0.033492502069354176,
           0.01435218486435548,
           0.4048577585025587,
           -0.0020665360380059438,
           0.008941249141234323,
           0.6184088652176047,
           0.5480562476995187,
           1,
           0.5102236357788085
          ],
          [
           0.20208860237515264,
           -0.026363178228837676,
           0.014406048430630005,
           0.06906537825528458,
           -0.004998722628107581,
           -0.020123200184066006,
           0.025975807949088936,
           0.37528060776572636,
           -0.027656213884289974,
           0.34407888325872127,
           -0.036745905336769386,
           -0.11031915543773241,
           -0.01198524847236139,
           0.022827168908479807,
           -0.0008674968446256695,
           0.02469822656303012,
           0.45918839708314385,
           -0.004095526021226202,
           0.002759440242340428,
           0.7692124251007031,
           0.7143647616385931,
           0.5102236357788085,
           1
          ]
         ]
        }
       ],
       "layout": {
        "height": 700,
        "template": {
         "data": {
          "bar": [
           {
            "error_x": {
             "color": "#2a3f5f"
            },
            "error_y": {
             "color": "#2a3f5f"
            },
            "marker": {
             "line": {
              "color": "#E5ECF6",
              "width": 0.5
             },
             "pattern": {
              "fillmode": "overlay",
              "size": 10,
              "solidity": 0.2
             }
            },
            "type": "bar"
           }
          ],
          "barpolar": [
           {
            "marker": {
             "line": {
              "color": "#E5ECF6",
              "width": 0.5
             },
             "pattern": {
              "fillmode": "overlay",
              "size": 10,
              "solidity": 0.2
             }
            },
            "type": "barpolar"
           }
          ],
          "carpet": [
           {
            "aaxis": {
             "endlinecolor": "#2a3f5f",
             "gridcolor": "white",
             "linecolor": "white",
             "minorgridcolor": "white",
             "startlinecolor": "#2a3f5f"
            },
            "baxis": {
             "endlinecolor": "#2a3f5f",
             "gridcolor": "white",
             "linecolor": "white",
             "minorgridcolor": "white",
             "startlinecolor": "#2a3f5f"
            },
            "type": "carpet"
           }
          ],
          "choropleth": [
           {
            "colorbar": {
             "outlinewidth": 0,
             "ticks": ""
            },
            "type": "choropleth"
           }
          ],
          "contour": [
           {
            "colorbar": {
             "outlinewidth": 0,
             "ticks": ""
            },
            "colorscale": [
             [
              0,
              "#0d0887"
             ],
             [
              0.1111111111111111,
              "#46039f"
             ],
             [
              0.2222222222222222,
              "#7201a8"
             ],
             [
              0.3333333333333333,
              "#9c179e"
             ],
             [
              0.4444444444444444,
              "#bd3786"
             ],
             [
              0.5555555555555556,
              "#d8576b"
             ],
             [
              0.6666666666666666,
              "#ed7953"
             ],
             [
              0.7777777777777778,
              "#fb9f3a"
             ],
             [
              0.8888888888888888,
              "#fdca26"
             ],
             [
              1,
              "#f0f921"
             ]
            ],
            "type": "contour"
           }
          ],
          "contourcarpet": [
           {
            "colorbar": {
             "outlinewidth": 0,
             "ticks": ""
            },
            "type": "contourcarpet"
           }
          ],
          "heatmap": [
           {
            "colorbar": {
             "outlinewidth": 0,
             "ticks": ""
            },
            "colorscale": [
             [
              0,
              "#0d0887"
             ],
             [
              0.1111111111111111,
              "#46039f"
             ],
             [
              0.2222222222222222,
              "#7201a8"
             ],
             [
              0.3333333333333333,
              "#9c179e"
             ],
             [
              0.4444444444444444,
              "#bd3786"
             ],
             [
              0.5555555555555556,
              "#d8576b"
             ],
             [
              0.6666666666666666,
              "#ed7953"
             ],
             [
              0.7777777777777778,
              "#fb9f3a"
             ],
             [
              0.8888888888888888,
              "#fdca26"
             ],
             [
              1,
              "#f0f921"
             ]
            ],
            "type": "heatmap"
           }
          ],
          "heatmapgl": [
           {
            "colorbar": {
             "outlinewidth": 0,
             "ticks": ""
            },
            "colorscale": [
             [
              0,
              "#0d0887"
             ],
             [
              0.1111111111111111,
              "#46039f"
             ],
             [
              0.2222222222222222,
              "#7201a8"
             ],
             [
              0.3333333333333333,
              "#9c179e"
             ],
             [
              0.4444444444444444,
              "#bd3786"
             ],
             [
              0.5555555555555556,
              "#d8576b"
             ],
             [
              0.6666666666666666,
              "#ed7953"
             ],
             [
              0.7777777777777778,
              "#fb9f3a"
             ],
             [
              0.8888888888888888,
              "#fdca26"
             ],
             [
              1,
              "#f0f921"
             ]
            ],
            "type": "heatmapgl"
           }
          ],
          "histogram": [
           {
            "marker": {
             "pattern": {
              "fillmode": "overlay",
              "size": 10,
              "solidity": 0.2
             }
            },
            "type": "histogram"
           }
          ],
          "histogram2d": [
           {
            "colorbar": {
             "outlinewidth": 0,
             "ticks": ""
            },
            "colorscale": [
             [
              0,
              "#0d0887"
             ],
             [
              0.1111111111111111,
              "#46039f"
             ],
             [
              0.2222222222222222,
              "#7201a8"
             ],
             [
              0.3333333333333333,
              "#9c179e"
             ],
             [
              0.4444444444444444,
              "#bd3786"
             ],
             [
              0.5555555555555556,
              "#d8576b"
             ],
             [
              0.6666666666666666,
              "#ed7953"
             ],
             [
              0.7777777777777778,
              "#fb9f3a"
             ],
             [
              0.8888888888888888,
              "#fdca26"
             ],
             [
              1,
              "#f0f921"
             ]
            ],
            "type": "histogram2d"
           }
          ],
          "histogram2dcontour": [
           {
            "colorbar": {
             "outlinewidth": 0,
             "ticks": ""
            },
            "colorscale": [
             [
              0,
              "#0d0887"
             ],
             [
              0.1111111111111111,
              "#46039f"
             ],
             [
              0.2222222222222222,
              "#7201a8"
             ],
             [
              0.3333333333333333,
              "#9c179e"
             ],
             [
              0.4444444444444444,
              "#bd3786"
             ],
             [
              0.5555555555555556,
              "#d8576b"
             ],
             [
              0.6666666666666666,
              "#ed7953"
             ],
             [
              0.7777777777777778,
              "#fb9f3a"
             ],
             [
              0.8888888888888888,
              "#fdca26"
             ],
             [
              1,
              "#f0f921"
             ]
            ],
            "type": "histogram2dcontour"
           }
          ],
          "mesh3d": [
           {
            "colorbar": {
             "outlinewidth": 0,
             "ticks": ""
            },
            "type": "mesh3d"
           }
          ],
          "parcoords": [
           {
            "line": {
             "colorbar": {
              "outlinewidth": 0,
              "ticks": ""
             }
            },
            "type": "parcoords"
           }
          ],
          "pie": [
           {
            "automargin": true,
            "type": "pie"
           }
          ],
          "scatter": [
           {
            "fillpattern": {
             "fillmode": "overlay",
             "size": 10,
             "solidity": 0.2
            },
            "type": "scatter"
           }
          ],
          "scatter3d": [
           {
            "line": {
             "colorbar": {
              "outlinewidth": 0,
              "ticks": ""
             }
            },
            "marker": {
             "colorbar": {
              "outlinewidth": 0,
              "ticks": ""
             }
            },
            "type": "scatter3d"
           }
          ],
          "scattercarpet": [
           {
            "marker": {
             "colorbar": {
              "outlinewidth": 0,
              "ticks": ""
             }
            },
            "type": "scattercarpet"
           }
          ],
          "scattergeo": [
           {
            "marker": {
             "colorbar": {
              "outlinewidth": 0,
              "ticks": ""
             }
            },
            "type": "scattergeo"
           }
          ],
          "scattergl": [
           {
            "marker": {
             "colorbar": {
              "outlinewidth": 0,
              "ticks": ""
             }
            },
            "type": "scattergl"
           }
          ],
          "scattermapbox": [
           {
            "marker": {
             "colorbar": {
              "outlinewidth": 0,
              "ticks": ""
             }
            },
            "type": "scattermapbox"
           }
          ],
          "scatterpolar": [
           {
            "marker": {
             "colorbar": {
              "outlinewidth": 0,
              "ticks": ""
             }
            },
            "type": "scatterpolar"
           }
          ],
          "scatterpolargl": [
           {
            "marker": {
             "colorbar": {
              "outlinewidth": 0,
              "ticks": ""
             }
            },
            "type": "scatterpolargl"
           }
          ],
          "scatterternary": [
           {
            "marker": {
             "colorbar": {
              "outlinewidth": 0,
              "ticks": ""
             }
            },
            "type": "scatterternary"
           }
          ],
          "surface": [
           {
            "colorbar": {
             "outlinewidth": 0,
             "ticks": ""
            },
            "colorscale": [
             [
              0,
              "#0d0887"
             ],
             [
              0.1111111111111111,
              "#46039f"
             ],
             [
              0.2222222222222222,
              "#7201a8"
             ],
             [
              0.3333333333333333,
              "#9c179e"
             ],
             [
              0.4444444444444444,
              "#bd3786"
             ],
             [
              0.5555555555555556,
              "#d8576b"
             ],
             [
              0.6666666666666666,
              "#ed7953"
             ],
             [
              0.7777777777777778,
              "#fb9f3a"
             ],
             [
              0.8888888888888888,
              "#fdca26"
             ],
             [
              1,
              "#f0f921"
             ]
            ],
            "type": "surface"
           }
          ],
          "table": [
           {
            "cells": {
             "fill": {
              "color": "#EBF0F8"
             },
             "line": {
              "color": "white"
             }
            },
            "header": {
             "fill": {
              "color": "#C8D4E3"
             },
             "line": {
              "color": "white"
             }
            },
            "type": "table"
           }
          ]
         },
         "layout": {
          "annotationdefaults": {
           "arrowcolor": "#2a3f5f",
           "arrowhead": 0,
           "arrowwidth": 1
          },
          "autotypenumbers": "strict",
          "coloraxis": {
           "colorbar": {
            "outlinewidth": 0,
            "ticks": ""
           }
          },
          "colorscale": {
           "diverging": [
            [
             0,
             "#8e0152"
            ],
            [
             0.1,
             "#c51b7d"
            ],
            [
             0.2,
             "#de77ae"
            ],
            [
             0.3,
             "#f1b6da"
            ],
            [
             0.4,
             "#fde0ef"
            ],
            [
             0.5,
             "#f7f7f7"
            ],
            [
             0.6,
             "#e6f5d0"
            ],
            [
             0.7,
             "#b8e186"
            ],
            [
             0.8,
             "#7fbc41"
            ],
            [
             0.9,
             "#4d9221"
            ],
            [
             1,
             "#276419"
            ]
           ],
           "sequential": [
            [
             0,
             "#0d0887"
            ],
            [
             0.1111111111111111,
             "#46039f"
            ],
            [
             0.2222222222222222,
             "#7201a8"
            ],
            [
             0.3333333333333333,
             "#9c179e"
            ],
            [
             0.4444444444444444,
             "#bd3786"
            ],
            [
             0.5555555555555556,
             "#d8576b"
            ],
            [
             0.6666666666666666,
             "#ed7953"
            ],
            [
             0.7777777777777778,
             "#fb9f3a"
            ],
            [
             0.8888888888888888,
             "#fdca26"
            ],
            [
             1,
             "#f0f921"
            ]
           ],
           "sequentialminus": [
            [
             0,
             "#0d0887"
            ],
            [
             0.1111111111111111,
             "#46039f"
            ],
            [
             0.2222222222222222,
             "#7201a8"
            ],
            [
             0.3333333333333333,
             "#9c179e"
            ],
            [
             0.4444444444444444,
             "#bd3786"
            ],
            [
             0.5555555555555556,
             "#d8576b"
            ],
            [
             0.6666666666666666,
             "#ed7953"
            ],
            [
             0.7777777777777778,
             "#fb9f3a"
            ],
            [
             0.8888888888888888,
             "#fdca26"
            ],
            [
             1,
             "#f0f921"
            ]
           ]
          },
          "colorway": [
           "#636efa",
           "#EF553B",
           "#00cc96",
           "#ab63fa",
           "#FFA15A",
           "#19d3f3",
           "#FF6692",
           "#B6E880",
           "#FF97FF",
           "#FECB52"
          ],
          "font": {
           "color": "#2a3f5f"
          },
          "geo": {
           "bgcolor": "white",
           "lakecolor": "white",
           "landcolor": "#E5ECF6",
           "showlakes": true,
           "showland": true,
           "subunitcolor": "white"
          },
          "hoverlabel": {
           "align": "left"
          },
          "hovermode": "closest",
          "mapbox": {
           "style": "light"
          },
          "paper_bgcolor": "white",
          "plot_bgcolor": "#E5ECF6",
          "polar": {
           "angularaxis": {
            "gridcolor": "white",
            "linecolor": "white",
            "ticks": ""
           },
           "bgcolor": "#E5ECF6",
           "radialaxis": {
            "gridcolor": "white",
            "linecolor": "white",
            "ticks": ""
           }
          },
          "scene": {
           "xaxis": {
            "backgroundcolor": "#E5ECF6",
            "gridcolor": "white",
            "gridwidth": 2,
            "linecolor": "white",
            "showbackground": true,
            "ticks": "",
            "zerolinecolor": "white"
           },
           "yaxis": {
            "backgroundcolor": "#E5ECF6",
            "gridcolor": "white",
            "gridwidth": 2,
            "linecolor": "white",
            "showbackground": true,
            "ticks": "",
            "zerolinecolor": "white"
           },
           "zaxis": {
            "backgroundcolor": "#E5ECF6",
            "gridcolor": "white",
            "gridwidth": 2,
            "linecolor": "white",
            "showbackground": true,
            "ticks": "",
            "zerolinecolor": "white"
           }
          },
          "shapedefaults": {
           "line": {
            "color": "#2a3f5f"
           }
          },
          "ternary": {
           "aaxis": {
            "gridcolor": "white",
            "linecolor": "white",
            "ticks": ""
           },
           "baxis": {
            "gridcolor": "white",
            "linecolor": "white",
            "ticks": ""
           },
           "bgcolor": "#E5ECF6",
           "caxis": {
            "gridcolor": "white",
            "linecolor": "white",
            "ticks": ""
           }
          },
          "title": {
           "x": 0.05
          },
          "xaxis": {
           "automargin": true,
           "gridcolor": "white",
           "linecolor": "white",
           "ticks": "",
           "title": {
            "standoff": 15
           },
           "zerolinecolor": "white",
           "zerolinewidth": 2
          },
          "yaxis": {
           "automargin": true,
           "gridcolor": "white",
           "linecolor": "white",
           "ticks": "",
           "title": {
            "standoff": 15
           },
           "zerolinecolor": "white",
           "zerolinewidth": 2
          }
         }
        },
        "title": {
         "text": "Pearson Correlation of Numeric Features"
        },
        "width": 900,
        "xaxis": {
         "autorange": true,
         "nticks": 36,
         "range": [
          -0.5,
          22.5
         ],
         "ticks": "",
         "type": "category"
        },
        "yaxis": {
         "autorange": true,
         "range": [
          -0.5,
          22.5
         ],
         "ticks": "",
         "type": "category"
        }
       }
      },
      "image/png": "[encoded data removed]",
      "text/html": [
       "<div>                            <div id=\"d66eff45-8de1-4e30-adcf-c5b7ad779894\" class=\"plotly-graph-div\" style=\"height:700px; width:900px;\"></div>            <script type=\"text/javascript\">                require([\"plotly\"], function(Plotly) {                    window.PLOTLYENV=window.PLOTLYENV || {};                                    if (document.getElementById(\"d66eff45-8de1-4e30-adcf-c5b7ad779894\")) {                    Plotly.newPlot(                        \"d66eff45-8de1-4e30-adcf-c5b7ad779894\",                        [{\"colorscale\":[[0.0,\"#440154\"],[0.1111111111111111,\"#482878\"],[0.2222222222222222,\"#3e4989\"],[0.3333333333333333,\"#31688e\"],[0.4444444444444444,\"#26828e\"],[0.5555555555555556,\"#1f9e89\"],[0.6666666666666666,\"#35b779\"],[0.7777777777777778,\"#6ece58\"],[0.8888888888888888,\"#b5de2b\"],[1.0,\"#fde725\"]],\"opacity\":0.7,\"reversescale\":false,\"x\":[\"Age\",\"DailyRate\",\"DistanceFromHome\",\"Education\",\"EnvironmentSatisfaction\",\"HourlyRate\",\"JobInvolvement\",\"JobLevel\",\"JobSatisfaction\",\"MonthlyIncome\",\"MonthlyRate\",\"NumCompaniesWorked\",\"PercentSalaryHike\",\"PerformanceRating\",\"RelationshipSatisfaction\",\"StockOptionLevel\",\"TotalWorkingYears\",\"TrainingTimesLastYear\",\"WorkLifeBalance\",\"YearsAtCompany\",\"YearsInCurrentRole\",\"YearsSinceLastPromotion\",\"YearsWithCurrManager\"],\"y\":[\"Age\",\"DailyRate\",\"DistanceFromHome\",\"Education\",\"EnvironmentSatisfaction\",\"HourlyRate\",\"JobInvolvement\",\"JobLevel\",\"JobSatisfaction\",\"MonthlyIncome\",\"MonthlyRate\",\"NumCompaniesWorked\",\"PercentSalaryHike\",\"PerformanceRating\",\"RelationshipSatisfaction\",\"StockOptionLevel\",\"TotalWorkingYears\",\"TrainingTimesLastYear\",\"WorkLifeBalance\",\"YearsAtCompany\",\"YearsInCurrentRole\",\"YearsSinceLastPromotion\",\"YearsWithCurrManager\"],\"z\":[[1.0,0.010660942645538433,-0.00168612014808715,0.2080337310142398,0.010146427861437268,0.024286542550967197,0.029819958629590578,0.5096042284323842,-0.00489187714868713,0.4978545669265801,0.02805116713392273,0.2996347579836926,0.0036335849148618872,0.0019038955127587383,0.053534719671229365,0.037509712424777526,0.6803805357911985,-0.01962081894269849,-0.021490027957098715,0.3113087697450989,0.21290105556556793,0.2165133678516537,0.20208860237515264],[0.010660942645538433,1.0,-0.00498533735255263,-0.01680643320915763,0.018354854300385557,0.023381421528320526,0.04613487399781112,0.0029663348551116197,0.030571007837143983,0.007707058872006053,-0.03218160152258194,0.0381534342794098,0.022703677496334968,0.00047329632718855213,0.007846030957248387,0.04214279637720667,0.014514738706320902,0.002452542712083144,-0.03784805100578179,-0.03405476756854742,0.009932014960094215,-0.033228984787772024,-0.026363178228837676],[-0.00168612014808715,-0.00498533735255263,1.0,0.021041825624123392,-0.016075326996493524,0.03113058561176572,0.008783279886444255,0.005302730554496216,-0.0036688391677205793,-0.017014444745275862,0.02747286354888413,-0.029250804197293017,0.040235377459193075,0.027109618481976,0.006557474646578779,0.04487199885318152,0.004628425863783857,-0.036942234339915794,-0.02655600410656903,0.009507719899011289,0.018844999108945746,0.010028835943115395,0.014406048430630005],[0.2080337310142398,-0.01680643320915763,0.021041825624123392,1.0,-0.027128313256511792,0.01677482888096076,0.042437634318607954,0.10158888624850043,-0.011296116736574002,0.09496067704188883,-0.026084197160047493,0.12631656017668452,-0.011110940860654192,-0.024538791164833557,-0.009118376696381533,0.018422220204016834,0.1482796965388733,-0.025100241137933348,0.00981918930978191,0.06911369603133866,0.06023555412069576,0.054254333591320224,0.06906537825528458],[0.010146427861437268,0.018354854300385557,-0.016075326996493524,-0.027128313256511792,1.0,-0.04985695620300066,-0.008277598171759099,0.001211699448913883,-0.006784352599075007,-0.0062590877547801654,0.037599622865715374,0.012594323218943297,-0.031701195241792046,-0.02954795229768088,0.007665383541074558,0.0034321577550574162,-0.002693070388534207,-0.01935930834713247,0.027627295460115428,0.0014575491911164862,0.01800746014287853,0.016193605568453326,-0.004998722628107581],[0.024286542550967197,0.023381421528320526,0.03113058561176572,0.01677482888096076,-0.04985695620300066,1.0,0.04286064097152976,-0.027853486405547218,-0.07133462437378787,-0.015794304380892982,-0.015296749550649661,0.02215688339019683,-0.00906198625374016,-0.002171697427810162,0.0013304527859508606,0.050263399065119486,-0.002333681823322269,-0.008547685209270649,-0.004607233750264554,-0.019581616209121275,-0.02410622020878498,-0.02671558606433524,-0.020123200184066006],[0.029819958629590578,0.04613487399781112,0.008783279886444255,0.042437634318607954,-0.008277598171759099,0.04286064097152976,1.0,-0.012629882671190631,-0.021475910335306454,-0.015271490778732832,-0.016322079053317298,0.015012413243110999,-0.017204572244480378,-0.029071333439069817,0.034296820611197744,0.021522640378023858,-0.0055331820574074635,-0.015337825759429116,-0.014616593162761865,-0.021355426979629725,0.00871696349761169,-0.024184292365179074,0.025975807949088936],[0.5096042284323842,0.0029663348551116197,0.005302730554496216,0.10158888624850043,0.001211699448913883,-0.027853486405547218,-0.012629882671190631,1.0,-0.0019437080267456581,0.9502999134798473,0.03956295104568388,0.1425011238104873,-0.03473049227941817,-0.021222082108857152,0.021641510532591595,0.013983910528615457,0.7822078045362748,-0.018190550193549416,0.037817745596666404,0.5347386873756308,0.3894467328766705,0.3538853469641021,0.37528060776572636],[-0.00489187714868713,0.030571007837143983,-0.0036688391677205793,-0.011296116736574002,-0.006784352599075007,-0.07133462437378787,-0.021475910335306454,-0.0019437080267456581,1.0,-0.00715674235591272,0.0006439169427037768,-0.05569942601274605,0.020002039364081927,0.0022971970637806114,-0.012453593161926702,0.010690226120755746,-0.020185072685016788,-0.005779334958609115,-0.01945871021297396,-0.0038026279482880534,-0.002304785229830135,-0.01821356781019079,-0.027656213884289974],[0.4978545669265801,0.007707058872006053,-0.017014444745275862,0.09496067704188883,-0.0062590877547801654,-0.015794304380892982,-0.015271490778732832,0.9502999134798473,-0.00715674235591272,1.0,0.034813626134121846,0.14951521598969805,-0.02726858644031447,-0.01712013823739077,0.025873436137557656,0.005407676696812238,0.7728932462543574,-0.02173627682389331,0.030683081556940557,0.5142848257331957,0.3638176669287084,0.3449776381654271,0.34407888325872127],[0.02805116713392273,-0.03218160152258194,0.02747286354888413,-0.026084197160047493,0.037599622865715374,-0.015296749550649661,-0.016322079053317298,0.03956295104568388,0.0006439169427037768,0.034813626134121846,1.0,0.017521353415571563,-0.006429345946711407,-0.00981142848936084,-0.004085329337519686,-0.034322830206660805,0.026442471176015385,0.0014668806322858448,0.007963157516977033,-0.023655106706177275,-0.012814874370471728,0.001566799514676175,-0.036745905336769386],[0.2996347579836926,0.0381534342794098,-0.029250804197293017,0.12631656017668452,0.012594323218943297,0.02215688339019683,0.015012413243110999,0.1425011238104873,-0.05569942601274605,0.14951521598969805,0.017521353415571563,1.0,-0.010238309359925521,-0.014094872753535133,0.05273304856488617,0.030075475096897484,0.23763858978479552,-0.06605407172783646,-0.008365684790058631,-0.11842134024259104,-0.0907539337008081,-0.03681389238350808,-0.11031915543773241],[0.0036335849148618872,0.022703677496334968,0.040235377459193075,-0.011110940860654192,-0.031701195241792046,-0.00906198625374016,-0.017204572244480378,-0.03473049227941817,0.020002039364081927,-0.02726858644031447,-0.006429345946711407,-0.010238309359925521,1.0,0.7735499964012664,-0.04049008105707734,0.0075277478205202026,-0.020608487617691264,-0.005221012351721004,-0.0032796360093680704,-0.03599126243195373,-0.0015200265442777774,-0.022154312598866126,-0.01198524847236139],[0.0019038955127587383,0.00047329632718855213,0.027109618481976,-0.024538791164833557,-0.02954795229768088,-0.002171697427810162,-0.029071333439069817,-0.021222082108857152,0.0022971970637806114,-0.01712013823739077,-0.00981142848936084,-0.014094872753535133,0.7735499964012664,1.0,-0.031351455442454886,0.003506471614809783,0.0067436679059531685,-0.015578881739137565,0.002572361317682639,0.0034351261159238713,0.034986260407194936,0.017896066144799785,0.022827168908479807],[0.053534719671229365,0.007846030957248387,0.006557474646578779,-0.009118376696381533,0.007665383541074558,0.0013304527859508606,0.034296820611197744,0.021641510532591595,-0.012453593161926702,0.025873436137557656,-0.004085329337519686,0.05273304856488617,-0.04049008105707734,-0.031351455442454886,1.0,-0.045952490716561906,0.02405429182134145,0.002496526392116996,0.01960440570396871,0.019366786877455463,-0.015122914881937748,0.033492502069354176,-0.0008674968446256695],[0.037509712424777526,0.04214279637720667,0.04487199885318152,0.018422220204016834,0.0034321577550574162,0.050263399065119486,0.021522640378023858,0.013983910528615457,0.010690226120755746,0.005407676696812238,-0.034322830206660805,0.030075475096897484,0.0075277478205202026,0.003506471614809783,-0.045952490716561906,1.0,0.010135969318901629,0.011274069611249207,0.004128730002871338,0.015058008028094509,0.050817872753931646,0.01435218486435548,0.02469822656303012],[0.6803805357911985,0.014514738706320902,0.004628425863783857,0.1482796965388733,-0.002693070388534207,-0.002333681823322269,-0.0055331820574074635,0.7822078045362748,-0.020185072685016788,0.7728932462543574,0.026442471176015385,0.23763858978479552,-0.020608487617691264,0.0067436679059531685,0.02405429182134145,0.010135969318901629,1.0,-0.03566157127961907,0.0010076456218964924,0.6281331552682468,0.46036463801180993,0.4048577585025587,0.45918839708314385],[-0.01962081894269849,0.002452542712083144,-0.036942234339915794,-0.025100241137933348,-0.01935930834713247,-0.008547685209270649,-0.015337825759429116,-0.018190550193549416,-0.005779334958609115,-0.02173627682389331,0.0014668806322858448,-0.06605407172783646,-0.005221012351721004,-0.015578881739137565,0.002496526392116996,0.011274069611249207,-0.03566157127961907,1.0,0.02807220660362872,0.003568665678427449,-0.0057375043379568925,-0.0020665360380059438,-0.004095526021226202],[-0.021490027957098715,-0.03784805100578179,-0.02655600410656903,0.00981918930978191,0.027627295460115428,-0.004607233750264554,-0.014616593162761865,0.037817745596666404,-0.01945871021297396,0.030683081556940557,0.007963157516977033,-0.008365684790058631,-0.0032796360093680704,0.002572361317682639,0.01960440570396871,0.004128730002871338,0.0010076456218964924,0.02807220660362872,1.0,0.012089185354581315,0.04985649792220436,0.008941249141234323,0.002759440242340428],[0.3113087697450989,-0.03405476756854742,0.009507719899011289,0.06911369603133866,0.0014575491911164862,-0.019581616209121275,-0.021355426979629725,0.5347386873756308,-0.0038026279482880534,0.5142848257331957,-0.023655106706177275,-0.11842134024259104,-0.03599126243195373,0.0034351261159238713,0.019366786877455463,0.015058008028094509,0.6281331552682468,0.003568665678427449,0.012089185354581315,1.0,0.7587537366134619,0.6184088652176047,0.7692124251007031],[0.21290105556556793,0.009932014960094215,0.018844999108945746,0.06023555412069576,0.01800746014287853,-0.02410622020878498,0.00871696349761169,0.3894467328766705,-0.002304785229830135,0.3638176669287084,-0.012814874370471728,-0.0907539337008081,-0.0015200265442777774,0.034986260407194936,-0.015122914881937748,0.050817872753931646,0.46036463801180993,-0.0057375043379568925,0.04985649792220436,0.7587537366134619,1.0,0.5480562476995187,0.7143647616385931],[0.2165133678516537,-0.033228984787772024,0.010028835943115395,0.054254333591320224,0.016193605568453326,-0.02671558606433524,-0.024184292365179074,0.3538853469641021,-0.01821356781019079,0.3449776381654271,0.001566799514676175,-0.03681389238350808,-0.022154312598866126,0.017896066144799785,0.033492502069354176,0.01435218486435548,0.4048577585025587,-0.0020665360380059438,0.008941249141234323,0.6184088652176047,0.5480562476995187,1.0,0.5102236357788085],[0.20208860237515264,-0.026363178228837676,0.014406048430630005,0.06906537825528458,-0.004998722628107581,-0.020123200184066006,0.025975807949088936,0.37528060776572636,-0.027656213884289974,0.34407888325872127,-0.036745905336769386,-0.11031915543773241,-0.01198524847236139,0.022827168908479807,-0.0008674968446256695,0.02469822656303012,0.45918839708314385,-0.004095526021226202,0.002759440242340428,0.7692124251007031,0.7143647616385931,0.5102236357788085,1.0]],\"type\":\"heatmap\"}],                        {\"height\":700,\"template\":{\"data\":{\"barpolar\":[{\"marker\":{\"line\":{\"color\":\"#E5ECF6\",\"width\":0.5},\"pattern\":{\"fillmode\":\"overlay\",\"size\":10,\"solidity\":0.2}},\"type\":\"barpolar\"}],\"bar\":[{\"error_x\":{\"color\":\"#2a3f5f\"},\"error_y\":{\"color\":\"#2a3f5f\"},\"marker\":{\"line\":{\"color\":\"#E5ECF6\",\"width\":0.5},\"pattern\":{\"fillmode\":\"overlay\",\"size\":10,\"solidity\":0.2}},\"type\":\"bar\"}],\"carpet\":[{\"aaxis\":{\"endlinecolor\":\"#2a3f5f\",\"gridcolor\":\"white\",\"linecolor\":\"white\",\"minorgridcolor\":\"white\",\"startlinecolor\":\"#2a3f5f\"},\"baxis\":{\"endlinecolor\":\"#2a3f5f\",\"gridcolor\":\"white\",\"linecolor\":\"white\",\"minorgridcolor\":\"white\",\"startlinecolor\":\"#2a3f5f\"},\"type\":\"carpet\"}],\"choropleth\":[{\"colorbar\":{\"outlinewidth\":0,\"ticks\":\"\"},\"type\":\"choropleth\"}],\"contourcarpet\":[{\"colorbar\":{\"outlinewidth\":0,\"ticks\":\"\"},\"type\":\"contourcarpet\"}],\"contour\":[{\"colorbar\":{\"outlinewidth\":0,\"ticks\":\"\"},\"colorscale\":[[0.0,\"#0d0887\"],[0.1111111111111111,\"#46039f\"],[0.2222222222222222,\"#7201a8\"],[0.3333333333333333,\"#9c179e\"],[0.4444444444444444,\"#bd3786\"],[0.5555555555555556,\"#d8576b\"],[0.6666666666666666,\"#ed7953\"],[0.7777777777777778,\"#fb9f3a\"],[0.8888888888888888,\"#fdca26\"],[1.0,\"#f0f921\"]],\"type\":\"contour\"}],\"heatmapgl\":[{\"colorbar\":{\"outlinewidth\":0,\"ticks\":\"\"},\"colorscale\":[[0.0,\"#0d0887\"],[0.1111111111111111,\"#46039f\"],[0.2222222222222222,\"#7201a8\"],[0.3333333333333333,\"#9c179e\"],[0.4444444444444444,\"#bd3786\"],[0.5555555555555556,\"#d8576b\"],[0.6666666666666666,\"#ed7953\"],[0.7777777777777778,\"#fb9f3a\"],[0.8888888888888888,\"#fdca26\"],[1.0,\"#f0f921\"]],\"type\":\"heatmapgl\"}],\"heatmap\":[{\"colorbar\":{\"outlinewidth\":0,\"ticks\":\"\"},\"colorscale\":[[0.0,\"#0d0887\"],[0.1111111111111111,\"#46039f\"],[0.2222222222222222,\"#7201a8\"],[0.3333333333333333,\"#9c179e\"],[0.4444444444444444,\"#bd3786\"],[0.5555555555555556,\"#d8576b\"],[0.6666666666666666,\"#ed7953\"],[0.7777777777777778,\"#fb9f3a\"],[0.8888888888888888,\"#fdca26\"],[1.0,\"#f0f921\"]],\"type\":\"heatmap\"}],\"histogram2dcontour\":[{\"colorbar\":{\"outlinewidth\":0,\"ticks\":\"\"},\"colorscale\":[[0.0,\"#0d0887\"],[0.1111111111111111,\"#46039f\"],[0.2222222222222222,\"#7201a8\"],[0.3333333333333333,\"#9c179e\"],[0.4444444444444444,\"#bd3786\"],[0.5555555555555556,\"#d8576b\"],[0.6666666666666666,\"#ed7953\"],[0.7777777777777778,\"#fb9f3a\"],[0.8888888888888888,\"#fdca26\"],[1.0,\"#f0f921\"]],\"type\":\"histogram2dcontour\"}],\"histogram2d\":[{\"colorbar\":{\"outlinewidth\":0,\"ticks\":\"\"},\"colorscale\":[[0.0,\"#0d0887\"],[0.1111111111111111,\"#46039f\"],[0.2222222222222222,\"#7201a8\"],[0.3333333333333333,\"#9c179e\"],[0.4444444444444444,\"#bd3786\"],[0.5555555555555556,\"#d8576b\"],[0.6666666666666666,\"#ed7953\"],[0.7777777777777778,\"#fb9f3a\"],[0.8888888888888888,\"#fdca26\"],[1.0,\"#f0f921\"]],\"type\":\"histogram2d\"}],\"histogram\":[{\"marker\":{\"pattern\":{\"fillmode\":\"overlay\",\"size\":10,\"solidity\":0.2}},\"type\":\"histogram\"}],\"mesh3d\":[{\"colorbar\":{\"outlinewidth\":0,\"ticks\":\"\"},\"type\":\"mesh3d\"}],\"parcoords\":[{\"line\":{\"colorbar\":{\"outlinewidth\":0,\"ticks\":\"\"}},\"type\":\"parcoords\"}],\"pie\":[{\"automargin\":true,\"type\":\"pie\"}],\"scatter3d\":[{\"line\":{\"colorbar\":{\"outlinewidth\":0,\"ticks\":\"\"}},\"marker\":{\"colorbar\":{\"outlinewidth\":0,\"ticks\":\"\"}},\"type\":\"scatter3d\"}],\"scattercarpet\":[{\"marker\":{\"colorbar\":{\"outlinewidth\":0,\"ticks\":\"\"}},\"type\":\"scattercarpet\"}],\"scattergeo\":[{\"marker\":{\"colorbar\":{\"outlinewidth\":0,\"ticks\":\"\"}},\"type\":\"scattergeo\"}],\"scattergl\":[{\"marker\":{\"colorbar\":{\"outlinewidth\":0,\"ticks\":\"\"}},\"type\":\"scattergl\"}],\"scattermapbox\":[{\"marker\":{\"colorbar\":{\"outlinewidth\":0,\"ticks\":\"\"}},\"type\":\"scattermapbox\"}],\"scatterpolargl\":[{\"marker\":{\"colorbar\":{\"outlinewidth\":0,\"ticks\":\"\"}},\"type\":\"scatterpolargl\"}],\"scatterpolar\":[{\"marker\":{\"colorbar\":{\"outlinewidth\":0,\"ticks\":\"\"}},\"type\":\"scatterpolar\"}],\"scatter\":[{\"fillpattern\":{\"fillmode\":\"overlay\",\"size\":10,\"solidity\":0.2},\"type\":\"scatter\"}],\"scatterternary\":[{\"marker\":{\"colorbar\":{\"outlinewidth\":0,\"ticks\":\"\"}},\"type\":\"scatterternary\"}],\"surface\":[{\"colorbar\":{\"outlinewidth\":0,\"ticks\":\"\"},\"colorscale\":[[0.0,\"#0d0887\"],[0.1111111111111111,\"#46039f\"],[0.2222222222222222,\"#7201a8\"],[0.3333333333333333,\"#9c179e\"],[0.4444444444444444,\"#bd3786\"],[0.5555555555555556,\"#d8576b\"],[0.6666666666666666,\"#ed7953\"],[0.7777777777777778,\"#fb9f3a\"],[0.8888888888888888,\"#fdca26\"],[1.0,\"#f0f921\"]],\"type\":\"surface\"}],\"table\":[{\"cells\":{\"fill\":{\"color\":\"#EBF0F8\"},\"line\":{\"color\":\"white\"}},\"header\":{\"fill\":{\"color\":\"#C8D4E3\"},\"line\":{\"color\":\"white\"}},\"type\":\"table\"}]},\"layout\":{\"annotationdefaults\":{\"arrowcolor\":\"#2a3f5f\",\"arrowhead\":0,\"arrowwidth\":1},\"autotypenumbers\":\"strict\",\"coloraxis\":{\"colorbar\":{\"outlinewidth\":0,\"ticks\":\"\"}},\"colorscale\":{\"diverging\":[[0,\"#8e0152\"],[0.1,\"#c51b7d\"],[0.2,\"#de77ae\"],[0.3,\"#f1b6da\"],[0.4,\"#fde0ef\"],[0.5,\"#f7f7f7\"],[0.6,\"#e6f5d0\"],[0.7,\"#b8e186\"],[0.8,\"#7fbc41\"],[0.9,\"#4d9221\"],[1,\"#276419\"]],\"sequential\":[[0.0,\"#0d0887\"],[0.1111111111111111,\"#46039f\"],[0.2222222222222222,\"#7201a8\"],[0.3333333333333333,\"#9c179e\"],[0.4444444444444444,\"#bd3786\"],[0.5555555555555556,\"#d8576b\"],[0.6666666666666666,\"#ed7953\"],[0.7777777777777778,\"#fb9f3a\"],[0.8888888888888888,\"#fdca26\"],[1.0,\"#f0f921\"]],\"sequentialminus\":[[0.0,\"#0d0887\"],[0.1111111111111111,\"#46039f\"],[0.2222222222222222,\"#7201a8\"],[0.3333333333333333,\"#9c179e\"],[0.4444444444444444,\"#bd3786\"],[0.5555555555555556,\"#d8576b\"],[0.6666666666666666,\"#ed7953\"],[0.7777777777777778,\"#fb9f3a\"],[0.8888888888888888,\"#fdca26\"],[1.0,\"#f0f921\"]]},\"colorway\":[\"#636efa\",\"#EF553B\",\"#00cc96\",\"#ab63fa\",\"#FFA15A\",\"#19d3f3\",\"#FF6692\",\"#B6E880\",\"#FF97FF\",\"#FECB52\"],\"font\":{\"color\":\"#2a3f5f\"},\"geo\":{\"bgcolor\":\"white\",\"lakecolor\":\"white\",\"landcolor\":\"#E5ECF6\",\"showlakes\":true,\"showland\":true,\"subunitcolor\":\"white\"},\"hoverlabel\":{\"align\":\"left\"},\"hovermode\":\"closest\",\"mapbox\":{\"style\":\"light\"},\"paper_bgcolor\":\"white\",\"plot_bgcolor\":\"#E5ECF6\",\"polar\":{\"angularaxis\":{\"gridcolor\":\"white\",\"linecolor\":\"white\",\"ticks\":\"\"},\"bgcolor\":\"#E5ECF6\",\"radialaxis\":{\"gridcolor\":\"white\",\"linecolor\":\"white\",\"ticks\":\"\"}},\"scene\":{\"xaxis\":{\"backgroundcolor\":\"#E5ECF6\",\"gridcolor\":\"white\",\"gridwidth\":2,\"linecolor\":\"white\",\"showbackground\":true,\"ticks\":\"\",\"zerolinecolor\":\"white\"},\"yaxis\":{\"backgroundcolor\":\"#E5ECF6\",\"gridcolor\":\"white\",\"gridwidth\":2,\"linecolor\":\"white\",\"showbackground\":true,\"ticks\":\"\",\"zerolinecolor\":\"white\"},\"zaxis\":{\"backgroundcolor\":\"#E5ECF6\",\"gridcolor\":\"white\",\"gridwidth\":2,\"linecolor\":\"white\",\"showbackground\":true,\"ticks\":\"\",\"zerolinecolor\":\"white\"}},\"shapedefaults\":{\"line\":{\"color\":\"#2a3f5f\"}},\"ternary\":{\"aaxis\":{\"gridcolor\":\"white\",\"linecolor\":\"white\",\"ticks\":\"\"},\"baxis\":{\"gridcolor\":\"white\",\"linecolor\":\"white\",\"ticks\":\"\"},\"bgcolor\":\"#E5ECF6\",\"caxis\":{\"gridcolor\":\"white\",\"linecolor\":\"white\",\"ticks\":\"\"}},\"title\":{\"x\":0.05},\"xaxis\":{\"automargin\":true,\"gridcolor\":\"white\",\"linecolor\":\"white\",\"ticks\":\"\",\"title\":{\"standoff\":15},\"zerolinecolor\":\"white\",\"zerolinewidth\":2},\"yaxis\":{\"automargin\":true,\"gridcolor\":\"white\",\"linecolor\":\"white\",\"ticks\":\"\",\"title\":{\"standoff\":15},\"zerolinecolor\":\"white\",\"zerolinewidth\":2}}},\"title\":{\"text\":\"Pearson Correlation of Numeric Features\"},\"width\":900,\"xaxis\":{\"nticks\":36,\"ticks\":\"\"},\"yaxis\":{\"ticks\":\"\"}},                        {\"responsive\": true}                    ).then(function(){\n",
       "                            \n",
       "var gd = document.getElementById('d66eff45-8de1-4e30-adcf-c5b7ad779894');\n",
       "var x = new MutationObserver(function (mutations, observer) {{\n",
       "        var display = window.getComputedStyle(gd).display;\n",
       "        if (!display || display === 'none') {{\n",
       "            console.log([gd, 'removed!']);\n",
       "            Plotly.purge(gd);\n",
       "            observer.disconnect();\n",
       "        }}\n",
       "}});\n",
       "\n",
       "// Listen for the removal of the full notebook cells\n",
       "var notebookContainer = gd.closest('#notebook-container');\n",
       "if (notebookContainer) {{\n",
       "    x.observe(notebookContainer, {childList: true});\n",
       "}}\n",
       "\n",
       "// Listen for the clearing of the current output cell\n",
       "var outputEl = gd.closest('.output');\n",
       "if (outputEl) {{\n",
       "    x.observe(outputEl, {childList: true});\n",
       "}}\n",
       "\n",
       "                        })                };                });            </script>        </div>"
      ]
     },
     "metadata": {},
     "output_type": "display_data"
    }
   ],
   "source": [
    "data = [go.Heatmap(\n",
    "    z = attrition[numeric].astype(float).corr().values,\n",
    "    x = attrition[numeric].columns.values,\n",
    "    y = attrition[numeric].columns.values,\n",
    "    colorscale = \"Viridis\",\n",
    "    reversescale = False,\n",
    "    opacity = 0.7\n",
    ")]\n",
    "\n",
    "layout = go.Layout(\n",
    "    title = \"Pearson Correlation of Numeric Features\",\n",
    "    xaxis = dict(ticks='',nticks=36),\n",
    "    yaxis = dict(ticks=''),\n",
    "    width = 900, height = 700,\n",
    ")\n",
    "\n",
    "fig = go.Figure(data = data, layout=layout)\n",
    "py.iplot(fig, filename = \"labelled-heatmap\")"
   ]
  },
  {
   "cell_type": "markdown",
   "id": "64dd2a21-1ea5-4b79-a1fc-84fddae05c06",
   "metadata": {},
   "source": [
    "From the correlation plot, we can see that most of our columns are poorly correlated with each other, which is a good thing while building a predictive model so that we don't need to deal with redundant features."
   ]
  },
  {
   "cell_type": "markdown",
   "id": "5537d41a-44f6-4013-b93a-74c44bc3c620",
   "metadata": {},
   "source": [
    "## Feature Engineering\n",
    "We will separate numeric columns from categorical columns and encode the categorical values in the dataset."
   ]
  },
  {
   "cell_type": "code",
   "execution_count": 368,
   "id": "38cabf52-5055-44d4-8100-2f26f0aee73c",
   "metadata": {},
   "outputs": [
    {
     "name": "stdout",
     "output_type": "stream",
     "text": [
      "['Attrition', 'BusinessTravel', 'Department', 'EducationField', 'Gender', 'JobRole', 'MaritalStatus', 'OverTime']\n"
     ]
    }
   ],
   "source": [
    "attrition = attrition.drop([\"Attrition_numeric\"],axis=1)\n",
    "\n",
    "#using list comprehension to create a list of categorical variables only\n",
    "categorical = [col for col in attrition.columns if attrition[col].dtype == \"object\"]\n",
    "print(categorical)\n",
    "\n",
    "#storing numeric columns in a separate list\n",
    "numeric_col = attrition.columns.difference(categorical)"
   ]
  },
  {
   "cell_type": "code",
   "execution_count": 370,
   "id": "dda96806-1986-4a60-870b-ececd367f533",
   "metadata": {},
   "outputs": [
    {
     "data": {
      "text/html": [
       "<div>\n",
       "<style scoped>\n",
       "    .dataframe tbody tr th:only-of-type {\n",
       "        vertical-align: middle;\n",
       "    }\n",
       "\n",
       "    .dataframe tbody tr th {\n",
       "        vertical-align: top;\n",
       "    }\n",
       "\n",
       "    .dataframe thead th {\n",
       "        text-align: right;\n",
       "    }\n",
       "</style>\n",
       "<table border=\"1\" class=\"dataframe\">\n",
       "  <thead>\n",
       "    <tr style=\"text-align: right;\">\n",
       "      <th></th>\n",
       "      <th>BusinessTravel_Non-Travel</th>\n",
       "      <th>BusinessTravel_Travel_Frequently</th>\n",
       "      <th>BusinessTravel_Travel_Rarely</th>\n",
       "      <th>Department_Human Resources</th>\n",
       "      <th>Department_Research &amp; Development</th>\n",
       "      <th>Department_Sales</th>\n",
       "      <th>EducationField_Human Resources</th>\n",
       "      <th>EducationField_Life Sciences</th>\n",
       "      <th>EducationField_Marketing</th>\n",
       "      <th>EducationField_Medical</th>\n",
       "      <th>...</th>\n",
       "      <th>JobRole_Manufacturing Director</th>\n",
       "      <th>JobRole_Research Director</th>\n",
       "      <th>JobRole_Research Scientist</th>\n",
       "      <th>JobRole_Sales Executive</th>\n",
       "      <th>JobRole_Sales Representative</th>\n",
       "      <th>MaritalStatus_Divorced</th>\n",
       "      <th>MaritalStatus_Married</th>\n",
       "      <th>MaritalStatus_Single</th>\n",
       "      <th>OverTime_No</th>\n",
       "      <th>OverTime_Yes</th>\n",
       "    </tr>\n",
       "  </thead>\n",
       "  <tbody>\n",
       "    <tr>\n",
       "      <th>0</th>\n",
       "      <td>False</td>\n",
       "      <td>False</td>\n",
       "      <td>True</td>\n",
       "      <td>False</td>\n",
       "      <td>False</td>\n",
       "      <td>True</td>\n",
       "      <td>False</td>\n",
       "      <td>True</td>\n",
       "      <td>False</td>\n",
       "      <td>False</td>\n",
       "      <td>...</td>\n",
       "      <td>False</td>\n",
       "      <td>False</td>\n",
       "      <td>False</td>\n",
       "      <td>True</td>\n",
       "      <td>False</td>\n",
       "      <td>False</td>\n",
       "      <td>False</td>\n",
       "      <td>True</td>\n",
       "      <td>False</td>\n",
       "      <td>True</td>\n",
       "    </tr>\n",
       "    <tr>\n",
       "      <th>1</th>\n",
       "      <td>False</td>\n",
       "      <td>True</td>\n",
       "      <td>False</td>\n",
       "      <td>False</td>\n",
       "      <td>True</td>\n",
       "      <td>False</td>\n",
       "      <td>False</td>\n",
       "      <td>True</td>\n",
       "      <td>False</td>\n",
       "      <td>False</td>\n",
       "      <td>...</td>\n",
       "      <td>False</td>\n",
       "      <td>False</td>\n",
       "      <td>True</td>\n",
       "      <td>False</td>\n",
       "      <td>False</td>\n",
       "      <td>False</td>\n",
       "      <td>True</td>\n",
       "      <td>False</td>\n",
       "      <td>True</td>\n",
       "      <td>False</td>\n",
       "    </tr>\n",
       "    <tr>\n",
       "      <th>2</th>\n",
       "      <td>False</td>\n",
       "      <td>False</td>\n",
       "      <td>True</td>\n",
       "      <td>False</td>\n",
       "      <td>True</td>\n",
       "      <td>False</td>\n",
       "      <td>False</td>\n",
       "      <td>False</td>\n",
       "      <td>False</td>\n",
       "      <td>False</td>\n",
       "      <td>...</td>\n",
       "      <td>False</td>\n",
       "      <td>False</td>\n",
       "      <td>False</td>\n",
       "      <td>False</td>\n",
       "      <td>False</td>\n",
       "      <td>False</td>\n",
       "      <td>False</td>\n",
       "      <td>True</td>\n",
       "      <td>False</td>\n",
       "      <td>True</td>\n",
       "    </tr>\n",
       "    <tr>\n",
       "      <th>3</th>\n",
       "      <td>False</td>\n",
       "      <td>True</td>\n",
       "      <td>False</td>\n",
       "      <td>False</td>\n",
       "      <td>True</td>\n",
       "      <td>False</td>\n",
       "      <td>False</td>\n",
       "      <td>True</td>\n",
       "      <td>False</td>\n",
       "      <td>False</td>\n",
       "      <td>...</td>\n",
       "      <td>False</td>\n",
       "      <td>False</td>\n",
       "      <td>True</td>\n",
       "      <td>False</td>\n",
       "      <td>False</td>\n",
       "      <td>False</td>\n",
       "      <td>True</td>\n",
       "      <td>False</td>\n",
       "      <td>False</td>\n",
       "      <td>True</td>\n",
       "    </tr>\n",
       "    <tr>\n",
       "      <th>4</th>\n",
       "      <td>False</td>\n",
       "      <td>False</td>\n",
       "      <td>True</td>\n",
       "      <td>False</td>\n",
       "      <td>True</td>\n",
       "      <td>False</td>\n",
       "      <td>False</td>\n",
       "      <td>False</td>\n",
       "      <td>False</td>\n",
       "      <td>True</td>\n",
       "      <td>...</td>\n",
       "      <td>False</td>\n",
       "      <td>False</td>\n",
       "      <td>False</td>\n",
       "      <td>False</td>\n",
       "      <td>False</td>\n",
       "      <td>False</td>\n",
       "      <td>True</td>\n",
       "      <td>False</td>\n",
       "      <td>True</td>\n",
       "      <td>False</td>\n",
       "    </tr>\n",
       "  </tbody>\n",
       "</table>\n",
       "<p>5 rows × 28 columns</p>\n",
       "</div>"
      ],
      "text/plain": [
       "   BusinessTravel_Non-Travel  BusinessTravel_Travel_Frequently  \\\n",
       "0                      False                             False   \n",
       "1                      False                              True   \n",
       "2                      False                             False   \n",
       "3                      False                              True   \n",
       "4                      False                             False   \n",
       "\n",
       "   BusinessTravel_Travel_Rarely  Department_Human Resources  \\\n",
       "0                          True                       False   \n",
       "1                         False                       False   \n",
       "2                          True                       False   \n",
       "3                         False                       False   \n",
       "4                          True                       False   \n",
       "\n",
       "   Department_Research & Development  Department_Sales  \\\n",
       "0                              False              True   \n",
       "1                               True             False   \n",
       "2                               True             False   \n",
       "3                               True             False   \n",
       "4                               True             False   \n",
       "\n",
       "   EducationField_Human Resources  EducationField_Life Sciences  \\\n",
       "0                           False                          True   \n",
       "1                           False                          True   \n",
       "2                           False                         False   \n",
       "3                           False                          True   \n",
       "4                           False                         False   \n",
       "\n",
       "   EducationField_Marketing  EducationField_Medical  ...  \\\n",
       "0                     False                   False  ...   \n",
       "1                     False                   False  ...   \n",
       "2                     False                   False  ...   \n",
       "3                     False                   False  ...   \n",
       "4                     False                    True  ...   \n",
       "\n",
       "   JobRole_Manufacturing Director  JobRole_Research Director  \\\n",
       "0                           False                      False   \n",
       "1                           False                      False   \n",
       "2                           False                      False   \n",
       "3                           False                      False   \n",
       "4                           False                      False   \n",
       "\n",
       "   JobRole_Research Scientist  JobRole_Sales Executive  \\\n",
       "0                       False                     True   \n",
       "1                        True                    False   \n",
       "2                       False                    False   \n",
       "3                        True                    False   \n",
       "4                       False                    False   \n",
       "\n",
       "   JobRole_Sales Representative  MaritalStatus_Divorced  \\\n",
       "0                         False                   False   \n",
       "1                         False                   False   \n",
       "2                         False                   False   \n",
       "3                         False                   False   \n",
       "4                         False                   False   \n",
       "\n",
       "   MaritalStatus_Married  MaritalStatus_Single  OverTime_No  OverTime_Yes  \n",
       "0                  False                  True        False          True  \n",
       "1                   True                 False         True         False  \n",
       "2                  False                  True        False          True  \n",
       "3                   True                 False        False          True  \n",
       "4                   True                 False         True         False  \n",
       "\n",
       "[5 rows x 28 columns]"
      ]
     },
     "execution_count": 370,
     "metadata": {},
     "output_type": "execute_result"
    }
   ],
   "source": [
    "#creating separate dataframes \n",
    "attrition_cat = attrition[categorical]\n",
    "attrition_num = attrition[numeric_col]\n",
    "\n",
    "#drop the target variable\n",
    "attrition_cat = attrition_cat.drop([\"Attrition\"],axis = 1)\n",
    "\n",
    "attrition_cat = pd.get_dummies(attrition_cat)\n",
    "attrition_cat.head()\n"
   ]
  },
  {
   "cell_type": "code",
   "execution_count": 374,
   "id": "b3134ae2-3eaf-45ac-94ac-7c43aee3f519",
   "metadata": {},
   "outputs": [],
   "source": [
    "#creating a final dataframe with encoded categorical variables \n",
    "X = pd.concat([attrition_num,attrition_cat],axis = 1)"
   ]
  },
  {
   "cell_type": "code",
   "execution_count": 376,
   "id": "692d8ed7-a6f4-40fa-a035-6704a6950d55",
   "metadata": {},
   "outputs": [
    {
     "data": {
      "text/plain": [
       "0    1\n",
       "1    0\n",
       "2    1\n",
       "3    0\n",
       "4    0\n",
       "Name: Attrition, dtype: int64"
      ]
     },
     "execution_count": 376,
     "metadata": {},
     "output_type": "execute_result"
    }
   ],
   "source": [
    "#Use pandas apply method to numerically encode the target variable\n",
    "y = attrition[\"Attrition\"].map({\"Yes\":1,\"No\":0})\n",
    "y.head()"
   ]
  },
  {
   "cell_type": "markdown",
   "id": "1370d75d-ed41-4d27-8c8f-2f1299ce5074",
   "metadata": {},
   "source": [
    "## Machine Learning for Attrition Prediction\n",
    "We will be using a variety of models for classification and checking to see which model has the best performance."
   ]
  },
  {
   "cell_type": "markdown",
   "id": "b4409cdc-5ddf-469d-8d8a-bdd43e8d229d",
   "metadata": {},
   "source": [
    "## Handling Class Imbalance\n",
    "\n",
    "The dataset is imbalanced, with significantly more \"No\" (non-attrition) cases than \"Yes\" (attrition). \n",
    "To address this, we use **SMOTE (Synthetic Minority Oversampling Technique)** to balance the training dataset. This improves the model's ability to detect attrition cases.\n"
   ]
  },
  {
   "cell_type": "code",
   "execution_count": 384,
   "id": "9566fdae-0d4f-421f-8c0c-69e0ff414c9b",
   "metadata": {},
   "outputs": [
    {
     "name": "stdout",
     "output_type": "stream",
     "text": [
      "Before SMOTE:  Attrition\n",
      "0    986\n",
      "1    190\n",
      "Name: count, dtype: int64\n",
      "After SMOTE:  Attrition\n",
      "0    986\n",
      "1    986\n",
      "Name: count, dtype: int64\n"
     ]
    }
   ],
   "source": [
    "#split data into training and test set\n",
    "from sklearn.model_selection import train_test_split\n",
    "\n",
    "X_train, X_test, y_train, y_test = train_test_split(X, y, test_size = 0.2, stratify=y, random_state = 23)\n",
    "\n",
    "#There is a class imbalance among Attrition values, so we train the model with SMOTE\n",
    "sm = SMOTE(random_state=23)\n",
    "X_train_res, y_train_res = sm.fit_resample(X_train,y_train)\n",
    "\n",
    "print(\"Before SMOTE: \", y_train.value_counts())\n",
    "print(\"After SMOTE: \", y_train_res.value_counts())"
   ]
  },
  {
   "cell_type": "code",
   "execution_count": 299,
   "id": "f2af70a8-9443-4dd5-87fe-fe63438c1422",
   "metadata": {},
   "outputs": [
    {
     "name": "stdout",
     "output_type": "stream",
     "text": [
      "                          Model  Accuracy  F1-Score   ROC-AUC\n",
      "0      Random Forest Classifier  0.857143  0.322581  0.810492\n",
      "1  Gradient Boosting Classifier  0.843537  0.303030  0.805496\n",
      "2            XGBoost Classifier  0.846939  0.347826  0.785339\n"
     ]
    }
   ],
   "source": [
    "#empty list to store results\n",
    "results = []\n",
    "\n",
    "models = {\n",
    "    \"Random Forest Classifier\": RandomForestClassifier(random_state=23),\n",
    "    \"Gradient Boosting Classifier\": GradientBoostingClassifier(random_state=23),\n",
    "    \"XGBoost Classifier\": XGBClassifier(random_state=23)\n",
    "}\n",
    "\n",
    "for name, model in models.items():\n",
    "    model.fit(X_train_res, y_train_res)\n",
    "    pred = model.predict(X_test)\n",
    "    proba = model.predict_proba(X_test)[:,1]\n",
    "\n",
    "    accuracy = accuracy_score(y_test,pred)\n",
    "    f1 = f1_score(y_test,pred)\n",
    "    auc = roc_auc_score(y_test,proba)\n",
    "    results.append((name, accuracy,f1,auc))\n",
    "\n",
    "results_df = pd.DataFrame(results, columns=[\"Model\", \"Accuracy\",\"F1-Score\", \"ROC-AUC\"])\n",
    "print(results_df.sort_values(by=\"ROC-AUC\", ascending=False))"
   ]
  },
  {
   "cell_type": "markdown",
   "id": "30c6cdb4-a42c-4dd4-bacf-e915ae03256c",
   "metadata": {},
   "source": [
    "Out of the three models that we tested, **Random Forest Classifier** has the highest accuracy."
   ]
  },
  {
   "cell_type": "markdown",
   "id": "77ff20b1-814b-4b81-8aee-1c3c02bb5d3c",
   "metadata": {},
   "source": [
    "## Conclusion\r\n",
    "\r\n",
    "- The dataset is highly imbalanced, which affects model performance.\r\n",
    "- SMing significantly imprsove the ability to detect attrition casass.\r\n",
    "- This model can be integrated into HR decision systems to proactively identify at-risk employees.\r\n",
    "\r\n",
    "Further improvements could include:\r\n",
    "- Feature engineering (e.g., interaction terms)\r\n",
    "- Explainability tools like SHAP values\r\n",
    "- Deploying the model in a real-time HR dashboard\r\n"
   ]
  }
 ],
 "metadata": {
  "kernelspec": {
   "display_name": "Python 3 (ipykernel)",
   "language": "python",
   "name": "python3"
  },
  "language_info": {
   "codemirror_mode": {
    "name": "ipython",
    "version": 3
   },
   "file_extension": ".py",
   "mimetype": "text/x-python",
   "name": "python",
   "nbconvert_exporter": "python",
   "pygments_lexer": "ipython3",
   "version": "3.12.4"
  }
 },
 "nbformat": 4,
 "nbformat_minor": 5
}
